{
  "nbformat": 4,
  "nbformat_minor": 0,
  "metadata": {
    "colab": {
      "provenance": [],
      "gpuType": "T4",
      "include_colab_link": true
    },
    "kernelspec": {
      "name": "python3",
      "display_name": "Python 3"
    },
    "accelerator": "GPU",
    "gpuClass": "standard"
  },
  "cells": [
    {
      "cell_type": "markdown",
      "metadata": {
        "id": "view-in-github",
        "colab_type": "text"
      },
      "source": [
        "<a href=\"https://colab.research.google.com/github/stefanogiagu/DL2023/blob/main/handson/Classical_AE_MNIST_AnomalyDetection.ipynb\" target=\"_parent\"><img src=\"https://colab.research.google.com/assets/colab-badge.svg\" alt=\"Open In Colab\"/></a>"
      ]
    },
    {
      "cell_type": "markdown",
      "source": [
        "# A simple Convolutional AE for anomaly detection of MNIST digits\n",
        "\n",
        "DL tool: pytorch"
      ],
      "metadata": {
        "id": "8ix-CMEfVfV2"
      }
    },
    {
      "cell_type": "code",
      "metadata": {
        "id": "fxsEpzXeKlYg",
        "colab": {
          "base_uri": "https://localhost:8080/"
        },
        "outputId": "2ffc50a7-d154-46c8-82b7-b8a3dd5a792c"
      },
      "source": [
        "# imports\n",
        "import numpy as np\n",
        "import matplotlib.pyplot as plt\n",
        "\n",
        "# pytorch\n",
        "import torch\n",
        "import torchvision\n",
        "\n",
        "print(torch.__version__)\n",
        "print(torchvision.__version__)\n",
        "\n",
        "from torch import nn\n",
        "import torch.nn.functional as F"
      ],
      "execution_count": 1,
      "outputs": [
        {
          "output_type": "stream",
          "name": "stdout",
          "text": [
            "2.0.1+cu118\n",
            "0.15.2+cu118\n"
          ]
        }
      ]
    },
    {
      "cell_type": "code",
      "source": [
        "# read minist from openml\n",
        "from sklearn.datasets import fetch_openml\n",
        "\n",
        "images, labels = fetch_openml(\"mnist_784\", version=1, return_X_y=True, as_frame=False, parser=\"pandas\")\n",
        "labels = labels.astype(int)\n",
        "\n",
        "print(images.shape)\n",
        "print(labels.shape)"
      ],
      "metadata": {
        "colab": {
          "base_uri": "https://localhost:8080/"
        },
        "id": "3uigwnUjOW3i",
        "outputId": "843a5764-d5ff-4f28-8202-3c110713882c"
      },
      "execution_count": 2,
      "outputs": [
        {
          "output_type": "stream",
          "name": "stdout",
          "text": [
            "(70000, 784)\n",
            "(70000,)\n"
          ]
        }
      ]
    },
    {
      "cell_type": "code",
      "source": [
        "# plot 9 images ranomly chosen from the dataset\n",
        "figure = plt.figure(figsize=(5, 4))\n",
        "cols, rows = 3,3\n",
        "for i in range(1, cols * rows + 1):\n",
        "    sample_idx = np.random.randint(len(images))\n",
        "    img, label = images[sample_idx], labels[sample_idx]\n",
        "    figure.add_subplot(rows, cols, i)\n",
        "    plt.title(label)\n",
        "    plt.axis(\"off\")\n",
        "    plt.imshow(img.reshape((28,28)), cmap=\"gray\")\n",
        "plt.show()"
      ],
      "metadata": {
        "colab": {
          "base_uri": "https://localhost:8080/",
          "height": 367
        },
        "id": "PdNlVOCEguAw",
        "outputId": "7dc8dfec-6b81-4de4-8b27-ca3415e3e238"
      },
      "execution_count": 3,
      "outputs": [
        {
          "output_type": "display_data",
          "data": {
            "text/plain": [
              "<Figure size 500x400 with 9 Axes>"
            ],
            "image/png": "[encoded data removed]"
          },
          "metadata": {}
        }
      ]
    },
    {
      "cell_type": "code",
      "source": [
        "# normalize images in [0,1]\n",
        "\n",
        "X = images / 255."
      ],
      "metadata": {
        "id": "QSTJCiwrg-bh"
      },
      "execution_count": 4,
      "outputs": []
    },
    {
      "cell_type": "code",
      "source": [
        "# extract MNIST 0 and 1 digits\n",
        "\n",
        "# digit 0 images  represent normal data\n",
        "# digit 1 images represent anomalous data\n",
        "\n",
        "mnist0 = X[labels==0]\n",
        "mnist1 = X[labels==1]\n",
        "\n",
        "plt.subplot(1,2,1)\n",
        "plt.imshow(mnist0[7].reshape((28,28)))\n",
        "plt.subplot(1,2,2)\n",
        "plt.imshow(mnist1[11].reshape((28,28)))"
      ],
      "metadata": {
        "colab": {
          "base_uri": "https://localhost:8080/",
          "height": 304
        },
        "id": "Mdty6YjswZK-",
        "outputId": "5e8c3b82-bd4e-4848-e80c-3dfe16a8a007"
      },
      "execution_count": 7,
      "outputs": [
        {
          "output_type": "execute_result",
          "data": {
            "text/plain": [
              "<matplotlib.image.AxesImage at 0x793d600247f0>"
            ]
          },
          "metadata": {},
          "execution_count": 7
        },
        {
          "output_type": "display_data",
          "data": {
            "text/plain": [
              "<Figure size 640x480 with 2 Axes>"
            ],
            "image/png": "[encoded data removed]"
          },
          "metadata": {}
        }
      ]
    },
    {
      "cell_type": "code",
      "source": [
        "# convert numpy arrays in torch tensor\n",
        "\n",
        "X0 = torch.Tensor(mnist0).float()\n",
        "X1 = torch.Tensor(mnist1).float()\n",
        "\n",
        "# reshaping tensors from (n,784) to (n,1,28,28)\n",
        "\n",
        "X0 = X0.view((X0.shape[0],1,28,28))\n",
        "X1 = X1.view((X1.shape[0],1,28,28))\n",
        "\n",
        "from torch.utils.data import TensorDataset, DataLoader\n",
        "\n",
        "X0_dataset = TensorDataset(X0, X0)\n",
        "\n",
        "ds0, ds0t = torch.utils.data.random_split(X0_dataset, [int(0.9*len(X0_dataset)), len(X0_dataset) - int(0.9*len(X0_dataset))])\n",
        "\n",
        "batch_size = 128\n",
        "\n",
        "from torch.utils.data import TensorDataset, DataLoader\n",
        "\n",
        "ds0_dl = DataLoader(ds0, batch_size=batch_size, shuffle=True, num_workers=1, drop_last=True)\n",
        "ds0t_dl = DataLoader(ds0t, batch_size=1, shuffle=True, num_workers=1, drop_last=True)\n",
        "\n",
        "ds1 = TensorDataset(X1, X1)\n",
        "ds1_dl = DataLoader(ds1, batch_size=1, shuffle=True, num_workers=1, drop_last=True)"
      ],
      "metadata": {
        "id": "aX5OYBF2xDxP"
      },
      "execution_count": 9,
      "outputs": []
    },
    {
      "cell_type": "code",
      "source": [
        "if torch.cuda.is_available():\n",
        "  print('# of available GPUs: ',torch.cuda.device_count())\n",
        "  for i in range(0,torch.cuda.device_count()):\n",
        "    print(torch.cuda.get_device_name(i))\n",
        "\n",
        "device = ('cuda' if torch.cuda.is_available() else 'cpu')\n",
        "print(f\"Computation device: {device}\\n\")"
      ],
      "metadata": {
        "id": "JV4zTLvwSEAJ",
        "colab": {
          "base_uri": "https://localhost:8080/"
        },
        "outputId": "d2691919-a2ae-4db2-860b-5bcd93985325"
      },
      "execution_count": 10,
      "outputs": [
        {
          "output_type": "stream",
          "name": "stdout",
          "text": [
            "# of available GPUs:  1\n",
            "Tesla T4\n",
            "Computation device: cuda\n",
            "\n"
          ]
        }
      ]
    },
    {
      "cell_type": "markdown",
      "source": [
        "### AE architecture\n",
        "\n",
        "a conolvutional AE with a 2 conv2d layers (kernL-size 4, stride 2, and a symmetrical decoder based on ConvTranspose2D. Latent space made by a dense layer. Sigmoid output."
      ],
      "metadata": {
        "id": "3Z42_INRiiMK"
      }
    },
    {
      "cell_type": "code",
      "source": [
        "# Convolutional Encoder Model\n",
        "\n",
        "class Encoder(nn.Module):\n",
        "    def __init__(self, hidden_channels=64, latent_dim=2):\n",
        "        super().__init__()\n",
        "\n",
        "        self.conv1 = nn.Conv2d(in_channels=1,\n",
        "                               out_channels=hidden_channels,\n",
        "                               kernel_size=4,\n",
        "                               stride=2,\n",
        "                               padding=1)\n",
        "\n",
        "        self.conv2 = nn.Conv2d(in_channels=hidden_channels,\n",
        "                               out_channels=hidden_channels*2,\n",
        "                               kernel_size=4,\n",
        "                               stride=2,\n",
        "                               padding=1) # output: hidden_channels x 2 x 7 x 7\n",
        "\n",
        "        self.fc_z = nn.Linear(in_features=hidden_channels*2*7*7,\n",
        "                               out_features=latent_dim)\n",
        "\n",
        "        self.activation = nn.ReLU()\n",
        "\n",
        "    def forward(self, x):\n",
        "\n",
        "        x = self.activation(self.conv1(x))\n",
        "        x = self.activation(self.conv2(x))\n",
        "\n",
        "        x = x.view(x.shape[0], -1) #flatten\n",
        "\n",
        "        z = self.fc_z(x)\n",
        "\n",
        "        return z"
      ],
      "metadata": {
        "id": "7o5rmJCFTD_q"
      },
      "execution_count": 11,
      "outputs": []
    },
    {
      "cell_type": "code",
      "source": [
        "# Convolutional Decoder Model\n",
        "\n",
        "class Decoder(nn.Module):\n",
        "    def __init__(self, hidden_channels=64, latent_dim=2):\n",
        "        super().__init__()\n",
        "        self.hidden_channels = hidden_channels\n",
        "\n",
        "        self.fc = nn.Linear(in_features=latent_dim,\n",
        "                            out_features=hidden_channels*2*7*7)\n",
        "\n",
        "        self.conv2 = nn.ConvTranspose2d(in_channels=hidden_channels*2,\n",
        "                                        out_channels=hidden_channels,\n",
        "                                        kernel_size=4,\n",
        "                                        stride=2,\n",
        "                                        padding=1)\n",
        "        self.conv1 = nn.ConvTranspose2d(in_channels=hidden_channels,\n",
        "                                        out_channels=1,\n",
        "                                        kernel_size=4,\n",
        "                                        stride=2,\n",
        "                                        padding=1)\n",
        "\n",
        "        self.activation = nn.ReLU()\n",
        "\n",
        "\n",
        "    def forward(self, x):\n",
        "        x = self.fc(x)\n",
        "        x = x.view(x.size(0), self.hidden_channels*2, 7, 7)\n",
        "        x = self.activation(self.conv2(x))\n",
        "        out = torch.sigmoid(self.conv1(x)) # final activation sigmoid (works with BCELoss as reconstruction loss)\n",
        "        return out"
      ],
      "metadata": {
        "id": "Ts3oU_JQUpcy"
      },
      "execution_count": 12,
      "outputs": []
    },
    {
      "cell_type": "code",
      "source": [
        "# Full AE Model\n",
        "\n",
        "class AE(nn.Module):\n",
        "    def __init__(self, encoder, decoder):\n",
        "        super().__init__()\n",
        "        self.encoder = encoder\n",
        "        self.decoder = decoder\n",
        "\n",
        "    def forward(self, x):\n",
        "        z = self.encoder(x)\n",
        "        x_recon = self.decoder(z)\n",
        "\n",
        "        return x_recon"
      ],
      "metadata": {
        "id": "sKqTgznXVKiV"
      },
      "execution_count": 13,
      "outputs": []
    },
    {
      "cell_type": "code",
      "source": [
        "# Training\n",
        "\n",
        "\n",
        "# instantiate the model\n",
        "\n",
        "hidden_channels = 64\n",
        "latent_dim = 2 #latent space dimension\n",
        "\n",
        "encoder = Encoder(hidden_channels=hidden_channels, latent_dim=latent_dim)\n",
        "decoder = Decoder(hidden_channels=hidden_channels, latent_dim=latent_dim)\n",
        "model_ae = AE(encoder, decoder)\n",
        "\n",
        "model_ae = model_ae.to(device)\n",
        "\n",
        "# Loss Binary CrossEntropy (you can use BCELoss from pytorch directly)\n",
        "def vae_loss(recon_x, x):\n",
        "    recon_loss = F.binary_cross_entropy(recon_x.view(-1, 784), x.view(-1, 784))\n",
        "    return recon_loss\n",
        "\n",
        "# Optimizer\n",
        "LR = 1.e-3\n",
        "opt = torch.optim.Adam(params=model_ae.parameters(), lr=LR, weight_decay=1e-5)"
      ],
      "metadata": {
        "id": "APaTbh72ziMw"
      },
      "execution_count": 14,
      "outputs": []
    },
    {
      "cell_type": "code",
      "source": [
        "# Training loop\n",
        "\n",
        "import time\n",
        "\n",
        "epochs = 60\n",
        "hist_loss = []\n",
        "\n",
        "for epoch in range(epochs):\n",
        "    t0 = time.time()\n",
        "\n",
        "    # training step\n",
        "    model_ae.train()\n",
        "    train_loss = 0\n",
        "    counter = 0\n",
        "\n",
        "    for xb, _ in ds0_dl:\n",
        "        counter += 1\n",
        "        xb=xb.to(device)\n",
        "\n",
        "        xhat = model_ae(xb)\n",
        "        loss = vae_loss(xhat, xb)\n",
        "\n",
        "        train_loss += loss.item()\n",
        "\n",
        "        # backpropagation\n",
        "        opt.zero_grad()\n",
        "        loss.backward()\n",
        "        opt.step()\n",
        "\n",
        "\n",
        "    train_loss /= counter\n",
        "    hist_loss.append(train_loss)\n",
        "\n",
        "    elapsed_time = time.time()-t0\n",
        "    print(\"epoch: %d, time(s): %.4f, train loss: %.6f\"\n",
        "          % (epoch+1, elapsed_time, train_loss))"
      ],
      "metadata": {
        "colab": {
          "base_uri": "https://localhost:8080/"
        },
        "id": "hHDtQrP2zoJ_",
        "outputId": "bff2319c-a840-4f4b-f93a-b68fa02d8773"
      },
      "execution_count": 15,
      "outputs": [
        {
          "output_type": "stream",
          "name": "stdout",
          "text": [
            "epoch: 1, time(s): 8.4214, train loss: 0.308869\n",
            "epoch: 2, time(s): 0.3978, train loss: 0.217502\n",
            "epoch: 3, time(s): 0.4072, train loss: 0.204393\n",
            "epoch: 4, time(s): 0.4002, train loss: 0.198406\n",
            "epoch: 5, time(s): 0.3969, train loss: 0.194711\n",
            "epoch: 6, time(s): 0.4136, train loss: 0.192924\n",
            "epoch: 7, time(s): 0.4054, train loss: 0.191398\n",
            "epoch: 8, time(s): 0.4053, train loss: 0.190320\n",
            "epoch: 9, time(s): 0.4444, train loss: 0.189202\n",
            "epoch: 10, time(s): 0.5423, train loss: 0.188571\n",
            "epoch: 11, time(s): 0.5884, train loss: 0.187708\n",
            "epoch: 12, time(s): 0.5614, train loss: 0.187042\n",
            "epoch: 13, time(s): 0.5334, train loss: 0.186331\n",
            "epoch: 14, time(s): 0.4038, train loss: 0.185227\n",
            "epoch: 15, time(s): 0.4080, train loss: 0.184376\n",
            "epoch: 16, time(s): 0.4036, train loss: 0.183810\n",
            "epoch: 17, time(s): 0.4101, train loss: 0.182987\n",
            "epoch: 18, time(s): 0.4075, train loss: 0.182398\n",
            "epoch: 19, time(s): 0.4093, train loss: 0.181676\n",
            "epoch: 20, time(s): 0.4090, train loss: 0.181340\n",
            "epoch: 21, time(s): 0.4071, train loss: 0.180929\n",
            "epoch: 22, time(s): 0.4127, train loss: 0.180574\n",
            "epoch: 23, time(s): 0.4050, train loss: 0.180413\n",
            "epoch: 24, time(s): 0.4097, train loss: 0.180187\n",
            "epoch: 25, time(s): 0.4105, train loss: 0.179797\n",
            "epoch: 26, time(s): 0.4103, train loss: 0.179607\n",
            "epoch: 27, time(s): 0.4086, train loss: 0.179511\n",
            "epoch: 28, time(s): 0.4113, train loss: 0.179242\n",
            "epoch: 29, time(s): 0.4023, train loss: 0.179542\n",
            "epoch: 30, time(s): 0.4145, train loss: 0.179060\n",
            "epoch: 31, time(s): 0.4055, train loss: 0.178996\n",
            "epoch: 32, time(s): 0.4095, train loss: 0.178862\n",
            "epoch: 33, time(s): 0.4053, train loss: 0.178817\n",
            "epoch: 34, time(s): 0.4074, train loss: 0.178627\n",
            "epoch: 35, time(s): 0.4110, train loss: 0.178868\n",
            "epoch: 36, time(s): 0.4104, train loss: 0.178318\n",
            "epoch: 37, time(s): 0.4120, train loss: 0.178221\n",
            "epoch: 38, time(s): 0.5228, train loss: 0.178479\n",
            "epoch: 39, time(s): 0.5643, train loss: 0.178100\n",
            "epoch: 40, time(s): 0.5372, train loss: 0.177873\n",
            "epoch: 41, time(s): 0.5516, train loss: 0.177913\n",
            "epoch: 42, time(s): 0.4260, train loss: 0.178008\n",
            "epoch: 43, time(s): 0.4051, train loss: 0.177776\n",
            "epoch: 44, time(s): 0.4172, train loss: 0.178018\n",
            "epoch: 45, time(s): 0.4089, train loss: 0.177598\n",
            "epoch: 46, time(s): 0.4226, train loss: 0.177747\n",
            "epoch: 47, time(s): 0.4070, train loss: 0.177464\n",
            "epoch: 48, time(s): 0.4051, train loss: 0.177646\n",
            "epoch: 49, time(s): 0.4244, train loss: 0.177354\n",
            "epoch: 50, time(s): 0.4057, train loss: 0.177145\n",
            "epoch: 51, time(s): 0.4100, train loss: 0.177180\n",
            "epoch: 52, time(s): 0.4112, train loss: 0.177285\n",
            "epoch: 53, time(s): 0.4084, train loss: 0.177208\n",
            "epoch: 54, time(s): 0.4108, train loss: 0.177049\n",
            "epoch: 55, time(s): 0.4069, train loss: 0.176950\n",
            "epoch: 56, time(s): 0.4177, train loss: 0.176872\n",
            "epoch: 57, time(s): 0.4031, train loss: 0.176922\n",
            "epoch: 58, time(s): 0.4122, train loss: 0.176667\n",
            "epoch: 59, time(s): 0.4295, train loss: 0.176595\n",
            "epoch: 60, time(s): 0.4082, train loss: 0.176596\n"
          ]
        }
      ]
    },
    {
      "cell_type": "code",
      "source": [
        "# Plot distribution of the BCELoss for test 0 and 1 events\n",
        "# we use the reconstruction loss as an anomaly measure (you may think to others anmaly measures, for example\n",
        "# based on the latent representation)\n",
        "\n",
        "model_ae.eval()\n",
        "\n",
        "ev0_loss = []\n",
        "ev1_loss = []\n",
        "\n",
        "with torch.no_grad():\n",
        "  for xb, _ in ds0t_dl:\n",
        "    xb=xb.to(device)\n",
        "\n",
        "    xhat = model_ae(xb)\n",
        "    loss = vae_loss(xhat, xb)\n",
        "\n",
        "    ev0_loss.append(loss.item())\n",
        "\n",
        "  for xb, _ in ds1_dl:\n",
        "    xb=xb.to(device)\n",
        "\n",
        "    xhat = model_ae(xb)\n",
        "    loss = vae_loss(xhat, xb)\n",
        "\n",
        "    ev1_loss.append(loss.item())\n",
        "\n",
        "plt.hist(ev0_loss, bins=100, range=[0,0.5], label='Normal', alpha=0.5)\n",
        "plt.hist(ev1_loss[:len(ev0_loss)], bins=100, range=[0,0.5], label='Anomalous', alpha=0.5)\n",
        "plt.xlabel(\"loss\")\n",
        "plt.legend()\n",
        "plt.show()"
      ],
      "metadata": {
        "colab": {
          "base_uri": "https://localhost:8080/",
          "height": 449
        },
        "id": "Sgn7Nsyc0AM6",
        "outputId": "baa2f7af-668d-4d50-8668-3da384555789"
      },
      "execution_count": 17,
      "outputs": [
        {
          "output_type": "display_data",
          "data": {
            "text/plain": [
              "<Figure size 640x480 with 1 Axes>"
            ],
            "image/png": "[encoded data removed]"
          },
          "metadata": {}
        }
      ]
    }
  ]
}